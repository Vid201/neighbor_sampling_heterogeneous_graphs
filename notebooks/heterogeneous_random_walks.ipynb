{
 "cells": [
  {
   "cell_type": "code",
   "execution_count": 1,
   "metadata": {},
   "outputs": [
    {
     "name": "stdout",
     "output_type": "stream",
     "text": [
      "Populating the interactive namespace from numpy and matplotlib\n"
     ]
    }
   ],
   "source": [
    "%pylab inline\n",
    "import pickle\n",
    "import pprint\n",
    "\n",
    "import numpy as np\n",
    "import torch\n",
    "\n",
    "from ogb.lsc import MAG240MDataset\n",
    "\n",
    "from matplotlib import pyplot as plt"
   ]
  },
  {
   "cell_type": "markdown",
   "metadata": {},
   "source": [
    "# Config"
   ]
  },
  {
   "cell_type": "code",
   "execution_count": 2,
   "metadata": {},
   "outputs": [],
   "source": [
    "root = '/lfs/rambo/1/vid/mag240m'\n",
    "dataset = MAG240MDataset(root)"
   ]
  },
  {
   "cell_type": "markdown",
   "metadata": {},
   "source": [
    "# Data"
   ]
  },
  {
   "cell_type": "code",
   "execution_count": 3,
   "metadata": {},
   "outputs": [],
   "source": [
    "num_nodes_dict = {\n",
    "    'paper': dataset.num_papers,\n",
    "    'author': dataset.num_authors,\n",
    "    'institution': dataset.num_institutions\n",
    "}"
   ]
  },
  {
   "cell_type": "code",
   "execution_count": 4,
   "metadata": {},
   "outputs": [],
   "source": [
    "path = f'{dataset.dir}/col_dict.p'\n",
    "col_dict = pickle.load(open(path, 'rb'))\n",
    "edge_types = { index: edge_type for index, edge_type in enumerate(list(col_dict.keys())) }"
   ]
  },
  {
   "cell_type": "code",
   "execution_count": 5,
   "metadata": {},
   "outputs": [
    {
     "data": {
      "text/plain": [
       "{0: 'paper cites paper',\n",
       " 1: 'author writes paper',\n",
       " 2: 'paper rev_writes author',\n",
       " 3: 'author affiliated_with institution',\n",
       " 4: 'institution rev_affiliated_with author'}"
      ]
     },
     "execution_count": 5,
     "metadata": {},
     "output_type": "execute_result"
    }
   ],
   "source": [
    "edge_types"
   ]
  },
  {
   "cell_type": "code",
   "execution_count": 6,
   "metadata": {},
   "outputs": [],
   "source": [
    "node_types_start = {}\n",
    "num_nodes = 0\n",
    "start = 0\n",
    "\n",
    "for node_type, node_count in num_nodes_dict.items():\n",
    "    node_types_start[node_type] = start\n",
    "    start += node_count\n",
    "    num_nodes += node_count"
   ]
  },
  {
   "cell_type": "code",
   "execution_count": 7,
   "metadata": {},
   "outputs": [],
   "source": [
    "train_idx = torch.from_numpy(dataset.get_idx_split('train')) + node_types_start['paper']\n",
    "y_train = torch.from_numpy(dataset.paper_label[train_idx])\n",
    "y_train_all = np.zeros((num_nodes,))\n",
    "y_train_all[train_idx] = y_train + 1"
   ]
  },
  {
   "cell_type": "markdown",
   "metadata": {},
   "source": [
    "# Heterogeneous Random Walks"
   ]
  },
  {
   "cell_type": "code",
   "execution_count": 8,
   "metadata": {},
   "outputs": [],
   "source": [
    "path = f'{dataset.dir}/random_walks_nodes.pt'\n",
    "random_walks_nodes = torch.load(path)\n",
    "path2 = f'{dataset.dir}/random_walks_edge_types.pt'\n",
    "random_walks_edge_types = torch.load(path2)"
   ]
  },
  {
   "cell_type": "code",
   "execution_count": 9,
   "metadata": {},
   "outputs": [],
   "source": [
    "number_of_walks = random_walks_nodes.shape[0]\n",
    "walk_length = random_walks_nodes.shape[1] - 1"
   ]
  },
  {
   "cell_type": "code",
   "execution_count": 17,
   "metadata": {},
   "outputs": [],
   "source": [
    "labels = torch.from_numpy(y_train_all[torch.flatten(random_walks_nodes)].reshape(-1, walk_length + 1))\n",
    "edge_types_counter = { edge_type: 0 for edge_type in edge_types.keys() }\n",
    "metapath_counter_analysis = np.zeros((labels.shape[0], len(edge_types.values())))"
   ]
  },
  {
   "cell_type": "code",
   "execution_count": 18,
   "metadata": {},
   "outputs": [],
   "source": [
    "walks_limit = 1000000\n",
    "\n",
    "for i in range(walks_limit):\n",
    "    start_label = labels[i, 0]\n",
    "    same_label = labels[i] == start_label\n",
    "    inds = torch.nonzero(same_label, as_tuple=True)[0]\n",
    "\n",
    "    if inds.shape[0] == 1:\n",
    "        if i > 0:\n",
    "            metapath_counter_analysis[i] = metapath_counter_analysis[i - 1]\n",
    "        continue\n",
    "    \n",
    "    for j in range(inds.shape[0] - 1):\n",
    "        if random_walks_nodes[i, inds[j]] == random_walks_nodes[i, inds[j+1]]:\n",
    "            continue\n",
    "        else:\n",
    "            between_edge_types = random_walks_edge_types[i, inds[j]:inds[j+1]]        \n",
    "            between_edge_types = torch.unique_consecutive(between_edge_types)\n",
    "            \n",
    "            for edge_type in edge_types.keys():\n",
    "                if str(edge_type) in str(between_edge_types):\n",
    "                    edge_types_counter[edge_type] += 1\n",
    "    \n",
    "    # update analysis\n",
    "    normalized_edge_types_counter = { key: value / sum(list(edge_types_counter.values())) for key, value in edge_types_counter.items() }\n",
    "    keys, values = zip(*normalized_edge_types_counter.items())\n",
    "    metapath_counter_analysis[i, keys] = values"
   ]
  },
  {
   "cell_type": "code",
   "execution_count": 19,
   "metadata": {},
   "outputs": [
    {
     "name": "stdout",
     "output_type": "stream",
     "text": [
      "{0: 139233, 1: 113775, 2: 113775, 3: 1879, 4: 1879}\n",
      "[[0.33333333 0.33333333 0.33333333 0.         0.        ]\n",
      " [0.27272727 0.36363636 0.36363636 0.         0.        ]\n",
      " [0.33333333 0.33333333 0.33333333 0.         0.        ]\n",
      " ...\n",
      " [0.37575599 0.30705104 0.30705104 0.00507096 0.00507096]\n",
      " [0.37575599 0.30705104 0.30705104 0.00507096 0.00507096]\n",
      " [0.37575599 0.30705104 0.30705104 0.00507096 0.00507096]]\n"
     ]
    }
   ],
   "source": [
    "print(edge_types_counter)\n",
    "print(metapath_counter_analysis[:walks_limit])"
   ]
  },
  {
   "cell_type": "code",
   "execution_count": 20,
   "metadata": {},
   "outputs": [],
   "source": [
    "path = f'{dataset.dir}/edge_types_counter.p'\n",
    "path2 = f'{dataset.dir}/metapath_counter_analysis.p'\n",
    "\n",
    "pickle.dump(edge_types_counter, open(path, 'wb'), protocol=4)\n",
    "pickle.dump(metapath_counter_analysis[:walks_limit], open(path2, 'wb'), protocol=4)"
   ]
  },
  {
   "cell_type": "code",
   "execution_count": 21,
   "metadata": {},
   "outputs": [
    {
     "data": {
      "text/plain": [
       "<matplotlib.legend.Legend at 0x7f0d54581a10>"
      ]
     },
     "execution_count": 21,
     "metadata": {},
     "output_type": "execute_result"
    },
    {
     "data": {
      "image/png": "[encoded data removed]",
      "text/plain": [
       "<Figure size 432x288 with 1 Axes>"
      ]
     },
     "metadata": {
      "needs_background": "light"
     },
     "output_type": "display_data"
    }
   ],
   "source": [
    "plt.plot(np.arange(walks_limit), metapath_counter_analysis[:walks_limit], label=edge_types.values())\n",
    "plt.legend()"
   ]
  },
  {
   "cell_type": "code",
   "execution_count": 22,
   "metadata": {},
   "outputs": [
    {
     "data": {
      "text/plain": [
       "array([0.37575599, 0.30705104, 0.30705104, 0.00507096, 0.00507096])"
      ]
     },
     "execution_count": 22,
     "metadata": {},
     "output_type": "execute_result"
    }
   ],
   "source": [
    "metapath_counter_analysis[walks_limit - 1]"
   ]
  }
 ],
 "metadata": {
  "interpreter": {
   "hash": "bde2df653ed6a74c3162cfdd20765049c5d462e68b8b4e04d32938729c0b2fc9"
  },
  "kernelspec": {
   "display_name": "Python 3.7.4 ('python_env': virtualenv)",
   "language": "python",
   "name": "python3"
  },
  "language_info": {
   "codemirror_mode": {
    "name": "ipython",
    "version": 3
   },
   "file_extension": ".py",
   "mimetype": "text/x-python",
   "name": "python",
   "nbconvert_exporter": "python",
   "pygments_lexer": "ipython3",
   "version": "3.7.4"
  },
  "orig_nbformat": 4
 },
 "nbformat": 4,
 "nbformat_minor": 2
}
